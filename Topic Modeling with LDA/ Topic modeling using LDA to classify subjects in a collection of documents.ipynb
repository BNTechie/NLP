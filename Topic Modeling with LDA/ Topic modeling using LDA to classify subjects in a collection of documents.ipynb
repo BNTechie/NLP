{
 "cells": [
  {
   "cell_type": "code",
   "execution_count": 8,
   "id": "4fbad2a9",
   "metadata": {},
   "outputs": [
    {
     "name": "stdout",
     "output_type": "stream",
     "text": [
      "Topic 1: 0.124*\"intelligence\" + 0.050*\"natural\" + 0.049*\"artificial\" + 0.049*\"contrast\" + 0.049*\"demonstrated\" + 0.049*\"animals\" + 0.049*\"displayed\" + 0.049*\"humans\" + 0.049*\"machines\" + 0.012*\"algorithms\"\n",
      "Topic 2: 0.082*\"learning\" + 0.044*\"machine\" + 0.044*\"language\" + 0.044*\"computer\" + 0.044*\"artificial\" + 0.025*\"neural\" + 0.025*\"family\" + 0.025*\"based\" + 0.025*\"broader\" + 0.025*\"representation\"\n",
      "Topic 3: 0.073*\"data\" + 0.042*\"algorithms\" + 0.042*\"science\" + 0.042*\"methods\" + 0.042*\"systems\" + 0.042*\"structured\" + 0.042*\"interdisciplinary\" + 0.042*\"uses\" + 0.042*\"unstructured\" + 0.042*\"scientific\"\n"
     ]
    },
    {
     "name": "stderr",
     "output_type": "stream",
     "text": [
      "[nltk_data] Downloading package punkt to /home/nivedita/nltk_data...\n",
      "[nltk_data]   Package punkt is already up-to-date!\n",
      "[nltk_data] Downloading package stopwords to\n",
      "[nltk_data]     /home/nivedita/nltk_data...\n",
      "[nltk_data]   Package stopwords is already up-to-date!\n"
     ]
    }
   ],
   "source": [
    "import nltk\n",
    "from nltk.corpus import stopwords\n",
    "from nltk.tokenize import word_tokenize\n",
    "import gensim\n",
    "from gensim import corpora\n",
    "import pyLDAvis.gensim_models\n",
    "\n",
    "\n",
    "# Download NLTK data\n",
    "nltk.download('punkt')\n",
    "nltk.download('stopwords')\n",
    "\n",
    "# Sample documents\n",
    "documents = [\n",
    "    \"Machine learning is the study of computer algorithms that improve automatically through experience.\",\n",
    "    \"Artificial intelligence is intelligence demonstrated by machines, in contrast to the natural intelligence displayed by humans and animals.\",\n",
    "    \"Deep learning is part of a broader family of machine learning methods based on artificial neural networks with representation learning.\",\n",
    "    \"Natural language processing (NLP) is a subfield of linguistics, computer science, and artificial intelligence concerned with the interactions between computers and human language.\",\n",
    "    \"Data science is an interdisciplinary field that uses scientific methods, processes, algorithms and systems to extract knowledge and insights from structured and unstructured data.\",\n",
    "]\n",
    "\n",
    "# Preprocess documents\n",
    "stop_words = set(stopwords.words('english'))\n",
    "\n",
    "def preprocess(doc):\n",
    "    tokens = word_tokenize(doc.lower())\n",
    "    tokens = [word for word in tokens if word.isalpha() and word not in stop_words]\n",
    "    return tokens\n",
    "\n",
    "processed_docs = [preprocess(doc) for doc in documents]\n",
    "\n",
    "# Create a dictionary representation of the documents\n",
    "dictionary = corpora.Dictionary(processed_docs)\n",
    "\n",
    "# Create a corpus: a list of bag-of-words representation of the documents\n",
    "corpus = [dictionary.doc2bow(doc) for doc in processed_docs]\n",
    "\n",
    "# Set the number of topics\n",
    "num_topics = 3\n",
    "\n",
    "# Build LDA model\n",
    "lda_model = gensim.models.LdaModel(corpus, num_topics=num_topics, id2word=dictionary, passes=15)\n",
    "\n",
    "# Print the topics\n",
    "for idx, topic in lda_model.print_topics(-1):\n",
    "    print(f\"Topic {idx + 1}: {topic}\")\n",
    "\n",
    "\n"
   ]
  },
  {
   "cell_type": "code",
   "execution_count": 9,
   "id": "718704c9",
   "metadata": {},
   "outputs": [
    {
     "name": "stdout",
     "output_type": "stream",
     "text": [
      "New Document Topic Distribution: [(0, 0.07574748), (1, 0.8762026), (2, 0.048049875)]\n"
     ]
    }
   ],
   "source": [
    "# Classify a new document\n",
    "new_doc = \"Neural networks and deep learning are gaining popularity in artificial intelligence.\"\n",
    "new_doc_bow = dictionary.doc2bow(preprocess(new_doc))\n",
    "topics = lda_model.get_document_topics(new_doc_bow)\n",
    "\n",
    "print(f\"New Document Topic Distribution: {topics}\")"
   ]
  },
  {
   "cell_type": "code",
   "execution_count": null,
   "id": "bf3dedd6",
   "metadata": {},
   "outputs": [],
   "source": []
  }
 ],
 "metadata": {
  "kernelspec": {
   "display_name": "Python 3 (ipykernel)",
   "language": "python",
   "name": "python3"
  },
  "language_info": {
   "codemirror_mode": {
    "name": "ipython",
    "version": 3
   },
   "file_extension": ".py",
   "mimetype": "text/x-python",
   "name": "python",
   "nbconvert_exporter": "python",
   "pygments_lexer": "ipython3",
   "version": "3.10.9"
  }
 },
 "nbformat": 4,
 "nbformat_minor": 5
}
